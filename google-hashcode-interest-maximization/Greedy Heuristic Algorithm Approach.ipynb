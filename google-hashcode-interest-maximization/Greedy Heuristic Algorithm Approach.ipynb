{
 "cells": [
  {
   "cell_type": "markdown",
   "metadata": {},
   "source": [
    "<i> This notebook presents a greedy heuristic algorithm approach to the Google HashCode Optimization Problem, more details for which can be found at https://www.kaggle.com/c/hashcode-photo-slideshow/data. Within this approach, a (nxn/2,1) heap priority queue is created to calculate \"interest metric\" values between each pair of images. The highest-value pairs are continuously appended to the string until all elements have been added. After individual horizontal and vertical images are added, a meta-level optimization is performed to club vertical images together. While this may possibly miss global minima as double-vertical slides are not considered in the initial ordering, the split  reduces the computational order of magnitude. </i>"
   ]
  },
  {
   "cell_type": "code",
   "execution_count": 1,
   "metadata": {},
   "outputs": [],
   "source": [
    "import pandas as pd\n",
    "import numpy as np\n",
    "import scipy as sp\n",
    "import gc\n",
    "import psutil\n",
    "import pickle\n",
    "import time\n",
    "from joblib import Parallel, delayed\n",
    "import collections\n",
    "import h5py\n",
    "from sortedcontainers import SortedDict, SortedList"
   ]
  },
  {
   "cell_type": "code",
   "execution_count": 2,
   "metadata": {},
   "outputs": [],
   "source": [
    "with open('d_pet_pictures.txt', 'rb') as f:\n",
    "    data = f.readlines()[1:]"
   ]
  },
  {
   "cell_type": "markdown",
   "metadata": {},
   "source": [
    "<h2> Generate Upper-Triangular \"Interest Value\" Matrix </h2>"
   ]
  },
  {
   "cell_type": "code",
   "execution_count": 3,
   "metadata": {},
   "outputs": [],
   "source": [
    "def generate_tagdict(data):\n",
    "    hdict, vdict = {}, {}\n",
    "    for i in range(len(data)):\n",
    "        row = np.vectorize(lambda s: s.decode('utf-8'))(data[i].split())\n",
    "        if row[0]==\"H\": hdict[str(i)] = set(row[1:])\n",
    "        else: vdict[str(i)] = set(row[1:])\n",
    "    return hdict, vdict\n",
    "hdict, vdict = generate_tagdict(data)"
   ]
  },
  {
   "cell_type": "code",
   "execution_count": 4,
   "metadata": {},
   "outputs": [],
   "source": [
    "def calculate_interest(name1, name2):\n",
    "    #Invariant: names are of the form (H/V):K where H/V indicates the dictionary in question and K is the key\n",
    "    #The hdict and vdict dictionaries contain sets\n",
    "    namedisamb = (lambda s: hdict[s.split(\":\")[1]] if s.split(\":\")[0]==\"H\" else \n",
    "                  vdict[s.split(\":\")[1]])\n",
    "    tag1, tag2 = namedisamb(name1), namedisamb(name2)\n",
    "    return min(len(tag1&tag2), len(tag1-tag2), len(tag2-tag1))"
   ]
  },
  {
   "cell_type": "code",
   "execution_count": 5,
   "metadata": {},
   "outputs": [],
   "source": [
    "hkeys = np.vectorize(lambda s: \"H:\"+str(s))(np.array(list(hdict.keys())))\n",
    "vkeys = np.vectorize(lambda s: \"V:\"+str(s))(np.array(list(vdict.keys())))\n",
    "totalkeys = np.append(hkeys, vkeys) "
   ]
  },
  {
   "cell_type": "code",
   "execution_count": 6,
   "metadata": {},
   "outputs": [
    {
     "name": "stdout",
     "output_type": "stream",
     "text": [
      "54.48229670524597\n"
     ]
    }
   ],
   "source": [
    "#Generate interest master list\n",
    "start = time.time()\n",
    "interestdict = SortedDict()\n",
    "for i in range(totalkeys.shape[0]):\n",
    "    for j in range(i+1, totalkeys.shape[0]):\n",
    "        value = calculate_interest(totalkeys[i], totalkeys[j])\n",
    "        if interestdict.get(value, False)==False:\n",
    "            interestdict[value] = collections.deque([(i,j)])\n",
    "        else:\n",
    "            interestdict[value].append((i,j))\n",
    "    if ((i+1)%10000==0) and (i!=0): print(\"Calculation Checkpoint: \"+str(i+1))\n",
    "print(time.time()-start)"
   ]
  },
  {
   "cell_type": "code",
   "execution_count": null,
   "metadata": {},
   "outputs": [],
   "source": []
  },
  {
   "cell_type": "code",
   "execution_count": null,
   "metadata": {},
   "outputs": [],
   "source": []
  },
  {
   "cell_type": "markdown",
   "metadata": {},
   "source": [
    "<h2> Create Greedy Algorithm Helper Functions </h2>"
   ]
  },
  {
   "cell_type": "code",
   "execution_count": 13,
   "metadata": {},
   "outputs": [],
   "source": [
    "#Global Variables\n",
    "imagecounter = 0\n",
    "lookupdict = {}\n",
    "curarrang = collections.deque()"
   ]
  },
  {
   "cell_type": "code",
   "execution_count": null,
   "metadata": {},
   "outputs": [],
   "source": [
    "def getmaxfn():\n",
    "    curmax = interestvals.pop()\n",
    "    if (lookupdict.get(curmax[0], 0)!=2) and (lookupdict.get(curmax[1], 0)!=2):\n",
    "        return curmax[2]\n",
    "    return getmaxfn()"
   ]
  },
  {
   "cell_type": "code",
   "execution_count": 15,
   "metadata": {},
   "outputs": [],
   "source": [
    "#Collapse Deque\n",
    "def deque_update(pair):\n",
    "    #Resolve Merge of Two Elements\n",
    "    def resolve_double(first, second):\n",
    "        #INVARIANT: The first and second will have an overlapping value as the first was updated but not second\n",
    "        if curarrang[first][0] in [curarrang[second][0], curarrang[second][-1]]:\n",
    "            curarrang[first].reverse()\n",
    "        if curarrang[first][-1]==curarrang[second][0]:\n",
    "            curarrang[second].popleft()\n",
    "        elif curarrang[first][-1]==curarrang[second][-1]:\n",
    "            curarrang[second].reverse()\n",
    "            curarrang[second].popleft()\n",
    "        curarrang[first]+=curarrang[second]\n",
    "        del curarrang[second]\n",
    "    match, lastm = False, 0\n",
    "    for i in range(len(curarrang)):\n",
    "        if curarrang[i][0]==pair[0]:\n",
    "            if not match:\n",
    "                curarrang[i].appendleft(pair[1])\n",
    "                lastm =  i\n",
    "                match = True\n",
    "            else:\n",
    "                resolve_double(lastm, i)\n",
    "        elif curarrang[i][0]==pair[1]:\n",
    "            if not match:\n",
    "                curarrang[i].appendleft(pair[0])\n",
    "                lastm =  i\n",
    "                match = True\n",
    "            else:\n",
    "                resolve_double(lastm, i)\n",
    "        elif curarrang[i][-1]==pair[0]:\n",
    "            if not match:\n",
    "                curarrang[i].append(pair[1])\n",
    "                lastm =  i\n",
    "                match = True\n",
    "            else:\n",
    "                resolve_double(lastm, i)\n",
    "        elif curarrang[i][-1]==pair[1]:\n",
    "            if not match:\n",
    "                curarrang[i].append(pair[0])\n",
    "                lastm =  i\n",
    "                match = True\n",
    "            else:\n",
    "                resolve_double(lastm, i)\n",
    "    if match: return\n",
    "    curarrang.append(collections.deque(pair))"
   ]
  },
  {
   "cell_type": "code",
   "execution_count": null,
   "metadata": {},
   "outputs": [],
   "source": []
  },
  {
   "cell_type": "markdown",
   "metadata": {},
   "source": [
    "<h2> Run Single-Image Greedy Heuristic (Layer 1)</h2>"
   ]
  },
  {
   "cell_type": "code",
   "execution_count": null,
   "metadata": {},
   "outputs": [],
   "source": [
    "while imagecounter<90000:\n",
    "    pass"
   ]
  },
  {
   "cell_type": "markdown",
   "metadata": {},
   "source": [
    "<h2> Generate Replacement Values for Double-Vertical Images"
   ]
  },
  {
   "cell_type": "code",
   "execution_count": null,
   "metadata": {},
   "outputs": [],
   "source": []
  },
  {
   "cell_type": "code",
   "execution_count": 2,
   "metadata": {},
   "outputs": [],
   "source": []
  },
  {
   "cell_type": "code",
   "execution_count": 3,
   "metadata": {},
   "outputs": [],
   "source": []
  },
  {
   "cell_type": "markdown",
   "metadata": {},
   "source": [
    "<h2> Group Double-Vertical Images to Enhance Interest (Layer 2) </h2>"
   ]
  },
  {
   "cell_type": "code",
   "execution_count": null,
   "metadata": {},
   "outputs": [],
   "source": []
  }
 ],
 "metadata": {
  "kernelspec": {
   "display_name": "Python 3",
   "language": "python",
   "name": "python3"
  },
  "language_info": {
   "codemirror_mode": {
    "name": "ipython",
    "version": 3
   },
   "file_extension": ".py",
   "mimetype": "text/x-python",
   "name": "python",
   "nbconvert_exporter": "python",
   "pygments_lexer": "ipython3",
   "version": "3.6.8"
  }
 },
 "nbformat": 4,
 "nbformat_minor": 2
}
