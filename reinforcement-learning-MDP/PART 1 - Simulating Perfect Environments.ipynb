{
 "cells": [
  {
   "cell_type": "code",
   "execution_count": 80,
   "metadata": {},
   "outputs": [],
   "source": [
    "import pandas as pd\n",
    "import numpy as np\n",
    "import scipy as sp\n",
    "import gc\n",
    "import collections\n",
    "import matplotlib.pyplot as plt\n",
    "import seaborn as sns\n",
    "from enum import Enum"
   ]
  },
  {
   "cell_type": "markdown",
   "metadata": {},
   "source": [
    "<h2> GridWorld Simulation </h2>"
   ]
  },
  {
   "cell_type": "markdown",
   "metadata": {},
   "source": [
    "In this section, we use dynamic programming techniques on Bellman optimal equations to calculate optimal policies with value iteration. The scenario is a discounted, episodic task, in the form of a 5x5 grid matrix where row 1 column 1 is the terminal cell. Different rewards are experimented with to generate the policies for the path to be taken by an agent in the environment. Specifically, <br/>\n",
    "$$v_{*}(s) = {max}_{a} \\sum_{s',r} p(s',r | s,a)(r + \\gamma v_{*}(s'))$$\n",
    "$$\\pi_{*}(s) = {argmax}_{a} \\sum_{s',r} p(s',r | s,a)(r + \\gamma v_{*}(s'))$$\n",
    "where s is the current state, a is an action, s' is a possible successor state, and r is the reward involved. Note that $v_{*}$ is the value function and $\\pi_{*}$ the policy derived from Bellman optimality equations. For dynamic programming, we greate update rules of the form:\n",
    "$$v_{k+1}(s) = {max}_{a} \\sum_{s',r} p(s',r | s,a)(r + \\gamma v_{k}(s'))$$\n",
    "with $v_{0}$ being randomly initialized and $v_{k} \\to v_{*}$ as $k \\to \\infty$ under the GPI framework."
   ]
  },
  {
   "cell_type": "code",
   "execution_count": 86,
   "metadata": {},
   "outputs": [],
   "source": [
    "class policy(Enum):\n",
    "        LEFT, RIGHT, UP, DOWN = 1, 2, 3, 4\n",
    "def simulator(rewardmtrx, transitionrwd, discount, terminals, error=1e-3):\n",
    "    v0, v1 = np.zeros(rewardmtrx.shape), np.zeros(rewardmtrx.shape)\n",
    "    greedypol = dict()\n",
    "    def is_terminal(i,j):\n",
    "        return ((i,j) in terminals)\n",
    "    while True:\n",
    "        for i in range(v1.shape[0]):\n",
    "            for j in range(v1.shape[1]):\n",
    "                if is_terminal(i,j): continue\n",
    "                leftval = discount*v0[i][j-1]+rewardmtrx[i][j-1] if j>0 else 0\n",
    "                rightval = discount*v0[i][j+1]+rewardmtrx[i][j+1] if j<(v1.shape[1]-1) else 0\n",
    "                upval = discount*v0[i-1][j]+rewardmtrx[i-1][j] if i>0 else 0\n",
    "                downval = discount*v0[i+1][j]+rewardmtrx[i+1][j] if i<(v1.shape[0]-1) else 0\n",
    "                values = np.array([leftval, rightval, upval, downval])+transitionrwd\n",
    "                v1[i][j] = np.max(values)\n",
    "                pol = policy(np.argmax(values)+1)\n",
    "                if not greedypol.get(i, None):\n",
    "                    greedypol[i] = dict()\n",
    "                greedypol[i][j] = pol\n",
    "        if (np.abs(v0-v1).max()<=error):\n",
    "            break\n",
    "        np.copyto(v0, v1)\n",
    "    return v0, greedypol"
   ]
  },
  {
   "cell_type": "code",
   "execution_count": 83,
   "metadata": {},
   "outputs": [],
   "source": [
    "def plotter(rewardmtrx, transitionrwd, discount, terminals, error=1e-3):\n",
    "    val, pol = simulator(rewardmtrx, transitionrwd, discount, terminals, error)\n",
    "    plt.figure(figsize=(15,4))\n",
    "    plt.subplot(1,3,1)\n",
    "    sns.heatmap(rewardmtrx)\n",
    "    plt.title(\"Rewards\")\n",
    "    plt.subplot(1,3,2)\n",
    "    sns.heatmap(val)\n",
    "    plt.title(\"Optimal Value Function\")\n",
    "    plt.subplot(1,3,3)\n",
    "    plt.title(\"Optimal Policy\")"
   ]
  },
  {
   "cell_type": "code",
   "execution_count": 85,
   "metadata": {},
   "outputs": [
    {
     "data": {
      "image/png": "[encoded data removed]",
      "text/plain": [
       "<Figure size 1080x288 with 5 Axes>"
      ]
     },
     "metadata": {
      "needs_background": "light"
     },
     "output_type": "display_data"
    }
   ],
   "source": [
    "#Global variables\n",
    "rewardmtrx = np.zeros((6,6))\n",
    "rewardmtrx[0,0] = 10\n",
    "rewardmtrx[4,4] = 10\n",
    "transitionrwd = -1\n",
    "discount = 1\n",
    "plotter(rewardmtrx, transitionrwd, discount, {(0,0),(4,4)}, 1e-3)"
   ]
  },
  {
   "cell_type": "code",
   "execution_count": 73,
   "metadata": {},
   "outputs": [],
   "source": [
    "v0 = np.zeros((5,5))\n",
    "v1 = np.zeros((5,5))\n",
    "greedypol = dict()\n",
    "def is_terminal(i,j):\n",
    "    return(i==0)&(j==0)\n",
    "error = 1e-3"
   ]
  },
  {
   "cell_type": "code",
   "execution_count": 74,
   "metadata": {},
   "outputs": [],
   "source": []
  },
  {
   "cell_type": "code",
   "execution_count": 8,
   "metadata": {},
   "outputs": [
    {
     "data": {
      "text/plain": [
       "<policy.LEFT: 1>"
      ]
     },
     "execution_count": 8,
     "metadata": {},
     "output_type": "execute_result"
    }
   ],
   "source": [
    "policy.LEFT"
   ]
  },
  {
   "cell_type": "code",
   "execution_count": 11,
   "metadata": {},
   "outputs": [
    {
     "data": {
      "text/plain": [
       "<policy.LEFT: 1>"
      ]
     },
     "execution_count": 11,
     "metadata": {},
     "output_type": "execute_result"
    }
   ],
   "source": [
    "policy(1)"
   ]
  },
  {
   "cell_type": "code",
   "execution_count": 75,
   "metadata": {},
   "outputs": [
    {
     "data": {
      "text/plain": [
       "array([[0., 9., 8., 7., 6.],\n",
       "       [9., 8., 7., 6., 5.],\n",
       "       [8., 7., 6., 5., 4.],\n",
       "       [7., 6., 5., 4., 3.],\n",
       "       [6., 5., 4., 3., 2.]])"
      ]
     },
     "execution_count": 75,
     "metadata": {},
     "output_type": "execute_result"
    }
   ],
   "source": [
    "v0"
   ]
  },
  {
   "cell_type": "code",
   "execution_count": 51,
   "metadata": {},
   "outputs": [
    {
     "data": {
      "text/plain": [
       "{0: {1: <policy.LEFT: 1>,\n",
       "  2: <policy.LEFT: 1>,\n",
       "  3: <policy.LEFT: 1>,\n",
       "  4: <policy.LEFT: 1>},\n",
       " 1: {0: <policy.UP: 3>,\n",
       "  1: <policy.LEFT: 1>,\n",
       "  2: <policy.LEFT: 1>,\n",
       "  3: <policy.LEFT: 1>,\n",
       "  4: <policy.LEFT: 1>},\n",
       " 2: {0: <policy.UP: 3>,\n",
       "  1: <policy.LEFT: 1>,\n",
       "  2: <policy.LEFT: 1>,\n",
       "  3: <policy.LEFT: 1>,\n",
       "  4: <policy.LEFT: 1>},\n",
       " 3: {0: <policy.UP: 3>,\n",
       "  1: <policy.LEFT: 1>,\n",
       "  2: <policy.LEFT: 1>,\n",
       "  3: <policy.LEFT: 1>,\n",
       "  4: <policy.LEFT: 1>},\n",
       " 4: {0: <policy.UP: 3>,\n",
       "  1: <policy.LEFT: 1>,\n",
       "  2: <policy.LEFT: 1>,\n",
       "  3: <policy.LEFT: 1>,\n",
       "  4: <policy.LEFT: 1>}}"
      ]
     },
     "execution_count": 51,
     "metadata": {},
     "output_type": "execute_result"
    }
   ],
   "source": [
    "greedypol"
   ]
  },
  {
   "cell_type": "code",
   "execution_count": null,
   "metadata": {},
   "outputs": [],
   "source": []
  }
 ],
 "metadata": {
  "kernelspec": {
   "display_name": "Python 3",
   "language": "python",
   "name": "python3"
  },
  "language_info": {
   "codemirror_mode": {
    "name": "ipython",
    "version": 3
   },
   "file_extension": ".py",
   "mimetype": "text/x-python",
   "name": "python",
   "nbconvert_exporter": "python",
   "pygments_lexer": "ipython3",
   "version": "3.6.8"
  }
 },
 "nbformat": 4,
 "nbformat_minor": 2
}
