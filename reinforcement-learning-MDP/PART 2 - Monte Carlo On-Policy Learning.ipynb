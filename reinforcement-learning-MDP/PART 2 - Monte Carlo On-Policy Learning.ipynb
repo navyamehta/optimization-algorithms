{
 "cells": [
  {
   "cell_type": "code",
   "execution_count": 1,
   "metadata": {},
   "outputs": [],
   "source": [
    "import pandas as pd\n",
    "import numpy as np\n",
    "import scipy as sp\n",
    "import collections\n",
    "import gc\n",
    "import matplotlib.pyplot as plt\n",
    "import matplotlib.patches as mpatches\n",
    "import seaborn as sns\n",
    "from copy import deepcopy"
   ]
  },
  {
   "cell_type": "markdown",
   "metadata": {},
   "source": [
    "<h2>BlackJack (Exploring Starts)</h2>"
   ]
  },
  {
   "cell_type": "markdown",
   "metadata": {},
   "source": [
    "We simulate black-jack games as episodic MDPs against a dealer to recognize optimal policies using sample-based learning. Based on house rules, dealers are seen to stick at particular card totals, and hit-stick actions are evaluated for each state. Since the dealer reveals one card at the start of the game, we consider three factors - existence of a usable ace, card total, dealer up-card - to define a state."
   ]
  },
  {
   "cell_type": "code",
   "execution_count": 2,
   "metadata": {},
   "outputs": [],
   "source": [
    "def exp_start():\n",
    "    summ = round(np.random.uniform(low=11.5, high=21.5))\n",
    "    dealer = round(np.random.uniform(low=0.5, high=10.5))\n",
    "    ace = np.random.choice(2)\n",
    "    return (ace, summ, dealer)"
   ]
  },
  {
   "cell_type": "code",
   "execution_count": 3,
   "metadata": {},
   "outputs": [],
   "source": [
    "def simulate_game(policydict, dealer_end):\n",
    "    randaction = \"HIT\" if np.random.uniform(low=0, high=1)<0.5 else \"STICK\"\n",
    "    player = collections.deque([(exp_start(), randaction)])\n",
    "    while (player[-1][1]==\"HIT\"):\n",
    "        newcard = round(np.random.uniform(low=0.5, high=10.5-1e-16))\n",
    "        state = None\n",
    "        if (player[-1][0][1]+newcard>21) and (player[-1][0][0]==1):\n",
    "            state = (0, player[-1][0][1]+newcard-10, player[-1][0][2])\n",
    "        else:\n",
    "            state = (player[-1][0][0], player[-1][0][1]+newcard, player[-1][0][2])\n",
    "        actionpos = policydict.get(state, {\"HIT\":0, \"STICK\":1})\n",
    "        action = \"HIT\" if np.random.uniform(low=0, high=1)<actionpos[\"HIT\"] else \"STICK\"\n",
    "        player.append((state, action))\n",
    "    if player[-1][0][1]>21:\n",
    "        return player, -1\n",
    "    dealer = (1, player[-1][0][2]+10) if player[-1][0][2]==1 else (0, player[-1][0][2])\n",
    "    while dealer[1]<dealer_end:\n",
    "        newcard = round(np.random.uniform(low=0.5, high=10.5))\n",
    "        if (newcard==1) and (dealer[1]<=10):\n",
    "            dealer = (1, dealer[1]+11)\n",
    "        elif (dealer[1]+newcard>21) and (dealer[0]==1):\n",
    "            dealer = (0, dealer[1]+newcard-10)\n",
    "        else:\n",
    "            dealer = (dealer[0], dealer[1]+newcard)\n",
    "    if dealer[1]>21:\n",
    "        return player, 1\n",
    "    elif dealer[1]==player[-1][0][1]:\n",
    "        return player, 0\n",
    "    elif dealer[1]>player[-1][0][1]:\n",
    "        return player, -1\n",
    "    else:\n",
    "        return player, 1"
   ]
  },
  {
   "cell_type": "code",
   "execution_count": 4,
   "metadata": {},
   "outputs": [],
   "source": [
    "def train_agent(dealer_end, simulations):\n",
    "    policydict = {(ace, summ, dealer):{\"HIT\":0.5, \"STICK\":0.5} for summ in range(12,22) \n",
    "              for dealer in range(1,11) for ace in range(2)}\n",
    "    actvaldict = {(ace, summ, dealer):{\"HIT\":0, \"STICK\":0} for summ in range(12,22) \n",
    "              for dealer in range(1,11) for ace in range(2)}\n",
    "    obs = deepcopy(actvaldict)\n",
    "    for sim in range(simulations):\n",
    "        moves, rwd = simulate_game(policydict, dealer_end)\n",
    "        for move in moves:\n",
    "            if not actvaldict.get(move[0], None): continue\n",
    "            obs[move[0]][move[1]]+=1\n",
    "            actvaldict[move[0]][move[1]]+= 1/obs[move[0]][move[1]]*(rwd - actvaldict[move[0]][move[1]])\n",
    "        for state in policydict.keys():\n",
    "            valpairs = actvaldict[state]\n",
    "            if valpairs[\"HIT\"]>valpairs[\"STICK\"]:\n",
    "                policydict[state][\"HIT\"] = 1\n",
    "                policydict[state][\"STICK\"] = 0\n",
    "            else:\n",
    "                policydict[state][\"HIT\"] = 0\n",
    "                policydict[state][\"STICK\"] = 1\n",
    "    return policydict"
   ]
  },
  {
   "cell_type": "code",
   "execution_count": 5,
   "metadata": {},
   "outputs": [
    {
     "data": {
      "image/png": "[encoded data removed]",
      "text/plain": [
       "<Figure size 1080x288 with 4 Axes>"
      ]
     },
     "metadata": {
      "needs_background": "light"
     },
     "output_type": "display_data"
    }
   ],
   "source": [
    "pol = train_agent(17, 1000000)\n",
    "usable, nonusable = np.zeros((10,10), dtype=np.int), np.zeros((10,10), dtype=np.int)\n",
    "for state in pol.keys():\n",
    "    if state[0]==1:\n",
    "        usable[21-state[1],state[2]-1] = pol[state][\"HIT\"]\n",
    "    else:\n",
    "        nonusable[21-state[1],state[2]-1] = pol[state][\"HIT\"]\n",
    "plt.figure(figsize=(15,4))\n",
    "plt.subplot(1,2,1)\n",
    "sns.heatmap(nonusable, yticklabels=np.arange(12,22)[::-1], xticklabels=np.arange(1,11))\n",
    "plt.xlabel(\"Dealer's Face-up Card\")\n",
    "plt.ylabel(\"Player's Card Total\")\n",
    "plt.title(\"No Usable Ace\")\n",
    "plt.subplot(1,2,2)\n",
    "sns.heatmap(usable, yticklabels=np.arange(12,22)[::-1],  xticklabels=np.arange(1,11))\n",
    "plt.xlabel(\"Dealer's Face-up Card\")\n",
    "plt.ylabel(\"Player's Card Total\")\n",
    "plt.title(\"Usable Ace\")\n",
    "plt.suptitle(\"Optimal BlackJack Strategy for Dealer Limit at 17 (Hit=1, Stick=0)\")\n",
    "plt.show()"
   ]
  },
  {
   "cell_type": "code",
   "execution_count": null,
   "metadata": {},
   "outputs": [],
   "source": []
  },
  {
   "cell_type": "code",
   "execution_count": null,
   "metadata": {},
   "outputs": [],
   "source": []
  }
 ],
 "metadata": {
  "kernelspec": {
   "display_name": "Python 3",
   "language": "python",
   "name": "python3"
  },
  "language_info": {
   "codemirror_mode": {
    "name": "ipython",
    "version": 3
   },
   "file_extension": ".py",
   "mimetype": "text/x-python",
   "name": "python",
   "nbconvert_exporter": "python",
   "pygments_lexer": "ipython3",
   "version": "3.6.8"
  }
 },
 "nbformat": 4,
 "nbformat_minor": 2
}
