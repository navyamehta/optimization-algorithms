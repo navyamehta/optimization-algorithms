{
 "cells": [
  {
   "cell_type": "code",
   "execution_count": 7,
   "metadata": {},
   "outputs": [],
   "source": [
    "import pandas as pd\n",
    "import numpy as np\n",
    "import scipy as sp\n",
    "import collections"
   ]
  },
  {
   "cell_type": "markdown",
   "metadata": {},
   "source": [
    "<h2> Recognizing Bipartite-Class Graphs </h2>"
   ]
  },
  {
   "cell_type": "code",
   "execution_count": 48,
   "metadata": {},
   "outputs": [],
   "source": [
    "#Assume input of the form V, E where V = {v1,v2,v3,...} or the set of all vertices, and E = {{vi,vj},...} as the set \n",
    "#of all edges in the graph\n",
    "V = {1,2,3,4,5,6,7}\n",
    "E = {(1,2),(2,3),(3,4),(4,1),(5,6),(6,7)}"
   ]
  },
  {
   "cell_type": "code",
   "execution_count": 49,
   "metadata": {},
   "outputs": [],
   "source": [
    "def single_parser(NB, A, B):\n",
    "    rem = dict()\n",
    "    for key in NB.keys():\n",
    "        if A[key]==True:\n",
    "            for neigh in NB[key]:\n",
    "                B[neigh] = True\n",
    "                if (A[neigh]==True):\n",
    "                    return rem, False\n",
    "        elif B[key]==True:\n",
    "            for neigh in NB[key]:\n",
    "                A[neigh] = True\n",
    "                if (B[neigh]==True):\n",
    "                    return rem, False\n",
    "        else:\n",
    "            rem[key] = NB[key]\n",
    "    return rem, True\n",
    "def connected_parser(NB):\n",
    "    A = dict(zip(list(V), np.repeat(False, len(V))))\n",
    "    B = A.copy()\n",
    "    #Set starting point\n",
    "    A[list(NB.keys())[0]] = True\n",
    "    rem, state = single_parser(NB, A, B)\n",
    "    if not state:\n",
    "        return rem, state\n",
    "    if len(rem)>0:\n",
    "        rem, state = single_parser(rem, A, B)\n",
    "    return rem, state"
   ]
  },
  {
   "cell_type": "code",
   "execution_count": 50,
   "metadata": {},
   "outputs": [],
   "source": [
    "def bipartite_recog(V, E):\n",
    "    #Re-shape to a dictionary of neighbourhoods:\n",
    "    NB = dict()\n",
    "    for edge in E:\n",
    "        for key, value in [(0,1),(1,0)]:\n",
    "            if not NB.get(edge[key], None):\n",
    "                NB[edge[key]] = collections.deque([edge[value]])\n",
    "            else:\n",
    "                NB[edge[key]].append(edge[value])\n",
    "    state = True\n",
    "    while (len(NB)>0):\n",
    "        NB, valid = connected_parser(NB)\n",
    "        state = state and valid\n",
    "        if not state:\n",
    "            return state\n",
    "    return state"
   ]
  },
  {
   "cell_type": "code",
   "execution_count": 51,
   "metadata": {},
   "outputs": [
    {
     "data": {
      "text/plain": [
       "True"
      ]
     },
     "execution_count": 51,
     "metadata": {},
     "output_type": "execute_result"
    }
   ],
   "source": [
    "bipartite_recog(V, E)"
   ]
  },
  {
   "cell_type": "code",
   "execution_count": null,
   "metadata": {},
   "outputs": [],
   "source": []
  }
 ],
 "metadata": {
  "kernelspec": {
   "display_name": "Python 3",
   "language": "python",
   "name": "python3"
  },
  "language_info": {
   "codemirror_mode": {
    "name": "ipython",
    "version": 3
   },
   "file_extension": ".py",
   "mimetype": "text/x-python",
   "name": "python",
   "nbconvert_exporter": "python",
   "pygments_lexer": "ipython3",
   "version": "3.6.8"
  }
 },
 "nbformat": 4,
 "nbformat_minor": 2
}
